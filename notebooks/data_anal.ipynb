{
 "cells": [
  {
   "cell_type": "code",
   "execution_count": 6,
   "id": "183bdba3-d701-4b4c-9b64-14bfafc7e8d9",
   "metadata": {},
   "outputs": [
    {
     "name": "stdout",
     "output_type": "stream",
     "text": [
      "\u001b[0m\u001b[01;34mconfig\u001b[0m/  \u001b[01;34mfeature_engineering\u001b[0m/  LICENSE  \u001b[01;34mmethods\u001b[0m/  README.md\n",
      "\u001b[01;34mdata\u001b[0m/    geometric.txt         main.py  \u001b[01;34mmodels\u001b[0m/   requirements.txt\n"
     ]
    }
   ],
   "source": [
    "ls antifraud/"
   ]
  },
  {
   "cell_type": "code",
   "execution_count": 7,
   "id": "e2626e24-589e-48b3-b33a-cd457dce01fc",
   "metadata": {
    "tags": []
   },
   "outputs": [],
   "source": [
    "import pandas as pd\n",
    "\n",
    "df = pd.read_csv(\"antifraud/data/S-FFSD.csv\")"
   ]
  },
  {
   "cell_type": "code",
   "execution_count": 8,
   "id": "e79925f2-d406-4d24-91b9-0f2929512b3a",
   "metadata": {},
   "outputs": [
    {
     "name": "stdout",
     "output_type": "stream",
     "text": [
      "<class 'pandas.core.frame.DataFrame'>\n",
      "RangeIndex: 77881 entries, 0 to 77880\n",
      "Data columns (total 7 columns):\n",
      " #   Column    Non-Null Count  Dtype  \n",
      "---  ------    --------------  -----  \n",
      " 0   Time      77881 non-null  int64  \n",
      " 1   Source    77881 non-null  object \n",
      " 2   Target    77881 non-null  object \n",
      " 3   Amount    77881 non-null  float64\n",
      " 4   Location  77881 non-null  object \n",
      " 5   Type      77881 non-null  object \n",
      " 6   Labels    77881 non-null  int64  \n",
      "dtypes: float64(1), int64(2), object(4)\n",
      "memory usage: 4.2+ MB\n"
     ]
    }
   ],
   "source": [
    "df.info()"
   ]
  },
  {
   "cell_type": "code",
   "execution_count": 9,
   "id": "3f1bccf3-cddb-4d4a-81bf-9866ec3d27b8",
   "metadata": {},
   "outputs": [
    {
     "data": {
      "text/html": [
       "<div>\n",
       "<style scoped>\n",
       "    .dataframe tbody tr th:only-of-type {\n",
       "        vertical-align: middle;\n",
       "    }\n",
       "\n",
       "    .dataframe tbody tr th {\n",
       "        vertical-align: top;\n",
       "    }\n",
       "\n",
       "    .dataframe thead th {\n",
       "        text-align: right;\n",
       "    }\n",
       "</style>\n",
       "<table border=\"1\" class=\"dataframe\">\n",
       "  <thead>\n",
       "    <tr style=\"text-align: right;\">\n",
       "      <th></th>\n",
       "      <th>Time</th>\n",
       "      <th>Amount</th>\n",
       "      <th>Labels</th>\n",
       "    </tr>\n",
       "  </thead>\n",
       "  <tbody>\n",
       "    <tr>\n",
       "      <th>count</th>\n",
       "      <td>77881.000000</td>\n",
       "      <td>77881.000000</td>\n",
       "      <td>77881.000000</td>\n",
       "    </tr>\n",
       "    <tr>\n",
       "      <th>mean</th>\n",
       "      <td>38940.000000</td>\n",
       "      <td>195.624898</td>\n",
       "      <td>1.306249</td>\n",
       "    </tr>\n",
       "    <tr>\n",
       "      <th>std</th>\n",
       "      <td>22482.452494</td>\n",
       "      <td>4642.508520</td>\n",
       "      <td>0.915825</td>\n",
       "    </tr>\n",
       "    <tr>\n",
       "      <th>min</th>\n",
       "      <td>0.000000</td>\n",
       "      <td>0.000000</td>\n",
       "      <td>0.000000</td>\n",
       "    </tr>\n",
       "    <tr>\n",
       "      <th>25%</th>\n",
       "      <td>19470.000000</td>\n",
       "      <td>5.000000</td>\n",
       "      <td>0.000000</td>\n",
       "    </tr>\n",
       "    <tr>\n",
       "      <th>50%</th>\n",
       "      <td>38940.000000</td>\n",
       "      <td>16.610000</td>\n",
       "      <td>2.000000</td>\n",
       "    </tr>\n",
       "    <tr>\n",
       "      <th>75%</th>\n",
       "      <td>58410.000000</td>\n",
       "      <td>69.000000</td>\n",
       "      <td>2.000000</td>\n",
       "    </tr>\n",
       "    <tr>\n",
       "      <th>max</th>\n",
       "      <td>77880.000000</td>\n",
       "      <td>800000.000000</td>\n",
       "      <td>2.000000</td>\n",
       "    </tr>\n",
       "  </tbody>\n",
       "</table>\n",
       "</div>"
      ],
      "text/plain": [
       "               Time         Amount        Labels\n",
       "count  77881.000000   77881.000000  77881.000000\n",
       "mean   38940.000000     195.624898      1.306249\n",
       "std    22482.452494    4642.508520      0.915825\n",
       "min        0.000000       0.000000      0.000000\n",
       "25%    19470.000000       5.000000      0.000000\n",
       "50%    38940.000000      16.610000      2.000000\n",
       "75%    58410.000000      69.000000      2.000000\n",
       "max    77880.000000  800000.000000      2.000000"
      ]
     },
     "execution_count": 9,
     "metadata": {},
     "output_type": "execute_result"
    }
   ],
   "source": [
    "df.describe()"
   ]
  },
  {
   "cell_type": "code",
   "execution_count": 10,
   "id": "12a83865-5d7f-4cc4-abc2-f9cb74c116fc",
   "metadata": {},
   "outputs": [
    {
     "data": {
      "text/html": [
       "<div>\n",
       "<style scoped>\n",
       "    .dataframe tbody tr th:only-of-type {\n",
       "        vertical-align: middle;\n",
       "    }\n",
       "\n",
       "    .dataframe tbody tr th {\n",
       "        vertical-align: top;\n",
       "    }\n",
       "\n",
       "    .dataframe thead th {\n",
       "        text-align: right;\n",
       "    }\n",
       "</style>\n",
       "<table border=\"1\" class=\"dataframe\">\n",
       "  <thead>\n",
       "    <tr style=\"text-align: right;\">\n",
       "      <th></th>\n",
       "      <th>Time</th>\n",
       "      <th>Source</th>\n",
       "      <th>Target</th>\n",
       "      <th>Amount</th>\n",
       "      <th>Location</th>\n",
       "      <th>Type</th>\n",
       "      <th>Labels</th>\n",
       "    </tr>\n",
       "  </thead>\n",
       "  <tbody>\n",
       "    <tr>\n",
       "      <th>0</th>\n",
       "      <td>0</td>\n",
       "      <td>S10000</td>\n",
       "      <td>T1000</td>\n",
       "      <td>13.74</td>\n",
       "      <td>L100</td>\n",
       "      <td>TP100</td>\n",
       "      <td>2</td>\n",
       "    </tr>\n",
       "    <tr>\n",
       "      <th>1</th>\n",
       "      <td>1</td>\n",
       "      <td>S10001</td>\n",
       "      <td>T1001</td>\n",
       "      <td>73.17</td>\n",
       "      <td>L101</td>\n",
       "      <td>TP101</td>\n",
       "      <td>2</td>\n",
       "    </tr>\n",
       "    <tr>\n",
       "      <th>2</th>\n",
       "      <td>2</td>\n",
       "      <td>S10002</td>\n",
       "      <td>T1000</td>\n",
       "      <td>68.59</td>\n",
       "      <td>L100</td>\n",
       "      <td>TP100</td>\n",
       "      <td>2</td>\n",
       "    </tr>\n",
       "    <tr>\n",
       "      <th>3</th>\n",
       "      <td>3</td>\n",
       "      <td>S10003</td>\n",
       "      <td>T1002</td>\n",
       "      <td>57.00</td>\n",
       "      <td>L100</td>\n",
       "      <td>TP102</td>\n",
       "      <td>2</td>\n",
       "    </tr>\n",
       "    <tr>\n",
       "      <th>4</th>\n",
       "      <td>4</td>\n",
       "      <td>S10004</td>\n",
       "      <td>T1000</td>\n",
       "      <td>11.55</td>\n",
       "      <td>L100</td>\n",
       "      <td>TP100</td>\n",
       "      <td>2</td>\n",
       "    </tr>\n",
       "  </tbody>\n",
       "</table>\n",
       "</div>"
      ],
      "text/plain": [
       "   Time  Source Target  Amount Location   Type  Labels\n",
       "0     0  S10000  T1000   13.74     L100  TP100       2\n",
       "1     1  S10001  T1001   73.17     L101  TP101       2\n",
       "2     2  S10002  T1000   68.59     L100  TP100       2\n",
       "3     3  S10003  T1002   57.00     L100  TP102       2\n",
       "4     4  S10004  T1000   11.55     L100  TP100       2"
      ]
     },
     "execution_count": 10,
     "metadata": {},
     "output_type": "execute_result"
    }
   ],
   "source": [
    "df.head()"
   ]
  },
  {
   "cell_type": "code",
   "execution_count": null,
   "id": "e1b5d378-ea38-4427-997b-db9939e9d40c",
   "metadata": {},
   "outputs": [],
   "source": []
  }
 ],
 "metadata": {
  "kernelspec": {
   "display_name": "Python 3 (ipykernel)",
   "language": "python",
   "name": "python3"
  },
  "language_info": {
   "codemirror_mode": {
    "name": "ipython",
    "version": 3
   },
   "file_extension": ".py",
   "mimetype": "text/x-python",
   "name": "python",
   "nbconvert_exporter": "python",
   "pygments_lexer": "ipython3",
   "version": "3.7.16"
  }
 },
 "nbformat": 4,
 "nbformat_minor": 5
}
